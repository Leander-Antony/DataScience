{
 "cells": [
  {
   "cell_type": "code",
   "execution_count": null,
   "metadata": {
    "executionInfo": {
     "elapsed": 14,
     "status": "ok",
     "timestamp": 1708169794273,
     "user": {
      "displayName": "Leander Antony",
      "userId": "18146047682910221179"
     },
     "user_tz": -330
    },
    "id": "Z6sRJvQgyfBO"
   },
   "outputs": [],
   "source": [
    "import pandas as pd\n",
    "import numpy as np"
   ]
  },
  {
   "cell_type": "code",
   "execution_count": null,
   "metadata": {
    "executionInfo": {
     "elapsed": 888,
     "status": "ok",
     "timestamp": 1708169795149,
     "user": {
      "displayName": "Leander Antony",
      "userId": "18146047682910221179"
     },
     "user_tz": -330
    },
    "id": "7AZAqo4I2p1P"
   },
   "outputs": [],
   "source": [
    "train = pd.read_csv(\"train.csv\")"
   ]
  },
  {
   "cell_type": "markdown",
   "metadata": {
    "id": "CwCzFztnphMV"
   },
   "source": [
    "### Data description"
   ]
  },
  {
   "cell_type": "markdown",
   "metadata": {
    "id": "hmsE7SMzpEws"
   },
   "source": [
    "| Feature  | Description            | Notes                                      |\n",
    "|----------|------------------------|--------------------------------------------|\n",
    "| survived | Survival               | 0 = No, 1 = Yes                            |\n",
    "| pclass   | Ticket class           | 1 = 1st, 2 = 2nd, 3 = 3rd                 |\n",
    "| sex      | Sex                    |                                            |\n",
    "| Age      | Age in years           |                                            |\n",
    "| sibsp    | # of siblings / spouses aboard the Titanic |                                    |\n",
    "| parch    | # of parents / children aboard the Titanic |                                    |\n",
    "| ticket   | Ticket number          |                                            |\n",
    "| fare     | Passenger fare         |                                            |\n",
    "| cabin    | Cabin number           |                                            |\n",
    "| embarked | Port of Embarkation    | C = Cherbourg, Q = Queenstown, S = Southampton |\n"
   ]
  },
  {
   "cell_type": "code",
   "execution_count": null,
   "metadata": {
    "colab": {
     "base_uri": "https://localhost:8080/",
     "height": 345
    },
    "executionInfo": {
     "elapsed": 161,
     "status": "ok",
     "timestamp": 1708169795149,
     "user": {
      "displayName": "Leander Antony",
      "userId": "18146047682910221179"
     },
     "user_tz": -330
    },
    "id": "miaZw02o7mr6",
    "outputId": "6186dfa8-5c62-431b-d8aa-563d34423cf8"
   },
   "outputs": [],
   "source": [
    "train.head()"
   ]
  },
  {
   "cell_type": "code",
   "execution_count": null,
   "metadata": {
    "colab": {
     "base_uri": "https://localhost:8080/"
    },
    "executionInfo": {
     "elapsed": 156,
     "status": "ok",
     "timestamp": 1708169795151,
     "user": {
      "displayName": "Leander Antony",
      "userId": "18146047682910221179"
     },
     "user_tz": -330
    },
    "id": "wX-jBb9cnW0H",
    "outputId": "e4c3898e-a628-438c-afba-2d58f0c0fdeb"
   },
   "outputs": [],
   "source": [
    "train.info()"
   ]
  },
  {
   "cell_type": "code",
   "execution_count": null,
   "metadata": {
    "colab": {
     "base_uri": "https://localhost:8080/"
    },
    "executionInfo": {
     "elapsed": 147,
     "status": "ok",
     "timestamp": 1708169795151,
     "user": {
      "displayName": "Leander Antony",
      "userId": "18146047682910221179"
     },
     "user_tz": -330
    },
    "id": "zah7_cLrnhZz",
    "outputId": "a5356f3a-0f97-4f98-ceb6-9d72579b01ab"
   },
   "outputs": [],
   "source": [
    "train.isna().sum()"
   ]
  },
  {
   "cell_type": "code",
   "execution_count": null,
   "metadata": {
    "executionInfo": {
     "elapsed": 143,
     "status": "ok",
     "timestamp": 1708169795152,
     "user": {
      "displayName": "Leander Antony",
      "userId": "18146047682910221179"
     },
     "user_tz": -330
    },
    "id": "iJzsVR3moOdI"
   },
   "outputs": [],
   "source": [
    "train.drop([\"PassengerId\",\"Cabin\",\"Name\",\"Ticket\"],axis=1, inplace=True)"
   ]
  },
  {
   "cell_type": "code",
   "execution_count": null,
   "metadata": {
    "colab": {
     "base_uri": "https://localhost:8080/",
     "height": 206
    },
    "executionInfo": {
     "elapsed": 142,
     "status": "ok",
     "timestamp": 1708169795153,
     "user": {
      "displayName": "Leander Antony",
      "userId": "18146047682910221179"
     },
     "user_tz": -330
    },
    "id": "b6I7wmBIpt7F",
    "outputId": "220e5b0f-95da-4b47-b557-81f9f767d9fe"
   },
   "outputs": [],
   "source": [
    "train.head()"
   ]
  },
  {
   "cell_type": "code",
   "execution_count": null,
   "metadata": {
    "colab": {
     "base_uri": "https://localhost:8080/"
    },
    "executionInfo": {
     "elapsed": 140,
     "status": "ok",
     "timestamp": 1708169795155,
     "user": {
      "displayName": "Leander Antony",
      "userId": "18146047682910221179"
     },
     "user_tz": -330
    },
    "id": "7s2QUz6g1wr4",
    "outputId": "3fa55faf-ff37-4d5d-a946-32824b4a14b4"
   },
   "outputs": [],
   "source": [
    "train['Sex'].value_counts()"
   ]
  },
  {
   "cell_type": "code",
   "execution_count": null,
   "metadata": {
    "colab": {
     "base_uri": "https://localhost:8080/"
    },
    "executionInfo": {
     "elapsed": 134,
     "status": "ok",
     "timestamp": 1708169795156,
     "user": {
      "displayName": "Leander Antony",
      "userId": "18146047682910221179"
     },
     "user_tz": -330
    },
    "id": "qwZV6iQY13X4",
    "outputId": "6e1b4703-b0f9-4466-e19b-715237611342"
   },
   "outputs": [],
   "source": [
    "train['Embarked'].value_counts()"
   ]
  },
  {
   "cell_type": "code",
   "execution_count": null,
   "metadata": {
    "executionInfo": {
     "elapsed": 130,
     "status": "ok",
     "timestamp": 1708169795157,
     "user": {
      "displayName": "Leander Antony",
      "userId": "18146047682910221179"
     },
     "user_tz": -330
    },
    "id": "V9iCqVgUqlST"
   },
   "outputs": [],
   "source": [
    "train['Age'] = train['Age'].fillna(train['Age'].mean())"
   ]
  },
  {
   "cell_type": "code",
   "execution_count": null,
   "metadata": {
    "colab": {
     "base_uri": "https://localhost:8080/",
     "height": 300
    },
    "executionInfo": {
     "elapsed": 131,
     "status": "ok",
     "timestamp": 1708169795159,
     "user": {
      "displayName": "Leander Antony",
      "userId": "18146047682910221179"
     },
     "user_tz": -330
    },
    "id": "oZ-p6MlsscHX",
    "outputId": "2a2ca58d-e222-4761-f72d-8838ac0c3dee"
   },
   "outputs": [],
   "source": [
    "train.describe()"
   ]
  },
  {
   "cell_type": "code",
   "execution_count": null,
   "metadata": {
    "colab": {
     "base_uri": "https://localhost:8080/"
    },
    "executionInfo": {
     "elapsed": 125,
     "status": "ok",
     "timestamp": 1708169795159,
     "user": {
      "displayName": "Leander Antony",
      "userId": "18146047682910221179"
     },
     "user_tz": -330
    },
    "id": "55FnfQmU1EWJ",
    "outputId": "d7eef15e-d3e0-434e-f9cf-4e3f8b64e7b6"
   },
   "outputs": [],
   "source": [
    "train[\"Survived\"].value_counts()"
   ]
  },
  {
   "cell_type": "code",
   "execution_count": null,
   "metadata": {},
   "outputs": [],
   "source": [
    "train.info()"
   ]
  },
  {
   "cell_type": "code",
   "execution_count": null,
   "metadata": {
    "executionInfo": {
     "elapsed": 117,
     "status": "ok",
     "timestamp": 1708169795160,
     "user": {
      "displayName": "Leander Antony",
      "userId": "18146047682910221179"
     },
     "user_tz": -330
    },
    "id": "lyCEVGaNsnzg"
   },
   "outputs": [],
   "source": [
    "import matplotlib.pyplot as plt\n",
    "import seaborn as sns"
   ]
  },
  {
   "cell_type": "code",
   "execution_count": null,
   "metadata": {
    "colab": {
     "base_uri": "https://localhost:8080/",
     "height": 564
    },
    "executionInfo": {
     "elapsed": 1603,
     "status": "ok",
     "timestamp": 1708170522286,
     "user": {
      "displayName": "Leander Antony",
      "userId": "18146047682910221179"
     },
     "user_tz": -330
    },
    "id": "L7tWkaMJxUEL",
    "outputId": "533a692e-82d5-477c-8f36-046dbd7f1802"
   },
   "outputs": [],
   "source": [
    "# Set the style of seaborn plots\n",
    "sns.set_style(\"whitegrid\")\n",
    "\n",
    "# Histogram: Survived vs Age\n",
    "plt.figure(figsize=(10, 6))\n",
    "sns.histplot(data=train, x='Age', hue='Survived', multiple='stack', bins=20, kde=True)\n",
    "plt.title('Survived vs Age')\n",
    "plt.xlabel('Age')\n",
    "plt.ylabel('Count')\n",
    "plt.show()"
   ]
  },
  {
   "cell_type": "code",
   "execution_count": null,
   "metadata": {
    "colab": {
     "base_uri": "https://localhost:8080/",
     "height": 564
    },
    "executionInfo": {
     "elapsed": 2798,
     "status": "ok",
     "timestamp": 1708169798920,
     "user": {
      "displayName": "Leander Antony",
      "userId": "18146047682910221179"
     },
     "user_tz": -330
    },
    "id": "JWWcZ7qH0XAN",
    "outputId": "5c718e14-ccfa-4b07-c501-72e6e9452c39"
   },
   "outputs": [],
   "source": [
    "# Histogram: Survived vs Fare\n",
    "plt.figure(figsize=(10, 6))\n",
    "sns.histplot(data=train, x='Fare', hue='Survived', multiple='stack', bins=20, kde=True)\n",
    "plt.title('Survived vs Fare')\n",
    "plt.xlabel('Fare')\n",
    "plt.ylabel('Count')\n",
    "plt.show()"
   ]
  },
  {
   "cell_type": "code",
   "execution_count": null,
   "metadata": {
    "colab": {
     "base_uri": "https://localhost:8080/",
     "height": 1000
    },
    "executionInfo": {
     "elapsed": 3264,
     "status": "ok",
     "timestamp": 1708170403072,
     "user": {
      "displayName": "Leander Antony",
      "userId": "18146047682910221179"
     },
     "user_tz": -330
    },
    "id": "VmV-bv7_0aKs",
    "outputId": "1f90ee78-3794-4ce9-bfe6-df42cbfe1f5d",
    "scrolled": true
   },
   "outputs": [],
   "source": [
    "# Define the categorical variables\n",
    "categorical_vars = ['Sex', 'Pclass', 'SibSp', 'Parch', 'Embarked']\n",
    "\n",
    "# Create count plots for each categorical variable\n",
    "for var in categorical_vars:\n",
    "    plt.figure(figsize=(10, 6))\n",
    "    sns.countplot(data=train, x=var, hue='Survived')\n",
    "    plt.title(f'Survived vs {var}')\n",
    "    plt.xlabel(var)\n",
    "    plt.ylabel('Count')\n",
    "    plt.show()"
   ]
  },
  {
   "cell_type": "code",
   "execution_count": null,
   "metadata": {
    "colab": {
     "base_uri": "https://localhost:8080/",
     "height": 564
    },
    "executionInfo": {
     "elapsed": 5468,
     "status": "ok",
     "timestamp": 1708170221570,
     "user": {
      "displayName": "Leander Antony",
      "userId": "18146047682910221179"
     },
     "user_tz": -330
    },
    "id": "NOF2DEcC0mqh",
    "outputId": "33caff7e-87fe-4cc4-eea0-9701f84a7fe5"
   },
   "outputs": [],
   "source": [
    "# Bar plot: Fare vs Embarked\n",
    "plt.figure(figsize=(10, 6))\n",
    "sns.barplot(data=train, x='Embarked', y='Fare')\n",
    "plt.title('Fare vs Embarked')\n",
    "plt.xlabel('Embarked')\n",
    "plt.ylabel('Fare')\n",
    "plt.show()"
   ]
  },
  {
   "cell_type": "code",
   "execution_count": null,
   "metadata": {
    "executionInfo": {
     "elapsed": 83,
     "status": "ok",
     "timestamp": 1708169801120,
     "user": {
      "displayName": "Leander Antony",
      "userId": "18146047682910221179"
     },
     "user_tz": -330
    },
    "id": "EacjbM2O01cJ"
   },
   "outputs": [],
   "source": [
    "train.head()"
   ]
  },
  {
   "cell_type": "code",
   "execution_count": null,
   "metadata": {},
   "outputs": [],
   "source": [
    "print(train['Sex'].value_counts())\n",
    "print(train['Embarked'].value_counts())"
   ]
  },
  {
   "cell_type": "code",
   "execution_count": null,
   "metadata": {},
   "outputs": [],
   "source": [
    "from sklearn.preprocessing import LabelEncoder\n",
    "\n",
    "label_encoder = LabelEncoder()\n",
    "\n",
    "train['Sex'] = label_encoder.fit_transform(train['Sex'])\n",
    "train['Embarked'] = label_encoder.fit_transform(train['Embarked'])"
   ]
  },
  {
   "cell_type": "code",
   "execution_count": null,
   "metadata": {},
   "outputs": [],
   "source": [
    "print(train['Sex'].value_counts())\n",
    "print(train['Embarked'].value_counts())"
   ]
  },
  {
   "cell_type": "code",
   "execution_count": null,
   "metadata": {},
   "outputs": [],
   "source": [
    "train.head()"
   ]
  },
  {
   "cell_type": "code",
   "execution_count": null,
   "metadata": {},
   "outputs": [],
   "source": [
    "X=train.drop([\"Survived\"],axis=1)\n",
    "y=train['Survived']"
   ]
  },
  {
   "cell_type": "code",
   "execution_count": null,
   "metadata": {},
   "outputs": [],
   "source": [
    "from sklearn.model_selection import train_test_split\n",
    "X_train , X_test, y_train, y_test = train_test_split(X,y,test_size=0.2)"
   ]
  },
  {
   "cell_type": "code",
   "execution_count": null,
   "metadata": {},
   "outputs": [],
   "source": [
    "from sklearn.linear_model import LogisticRegression\n",
    "from sklearn.tree import DecisionTreeClassifier"
   ]
  },
  {
   "cell_type": "code",
   "execution_count": null,
   "metadata": {},
   "outputs": [],
   "source": [
    "model_params = {\n",
    "    \n",
    "    'logistic_regression': {\n",
    "        'model': LogisticRegression(max_iter=1000),\n",
    "        'params': {\n",
    "            'C': [0.1, 0.5, 1, 5, 10]\n",
    "        }\n",
    "    },\n",
    "    \n",
    "    'decision_tree': {\n",
    "        'model': DecisionTreeClassifier(),\n",
    "        'params': {\n",
    "            'criterion': ['gini', 'entropy'],\n",
    "            'max_depth': [None, 5, 10, 20],\n",
    "            'min_samples_split': [2, 5, 10],\n",
    "            'min_samples_leaf': [1, 2, 4]\n",
    "        }\n",
    "    }\n",
    "    \n",
    "}\n"
   ]
  },
  {
   "cell_type": "code",
   "execution_count": null,
   "metadata": {},
   "outputs": [],
   "source": [
    "from sklearn.model_selection import GridSearchCV\n",
    "scores=[]\n",
    "for model_name, mp in model_params.items():\n",
    "    clf =  GridSearchCV(mp['model'], mp['params'], cv=5, return_train_score=False)\n",
    "    clf.fit(X_train,y_train)\n",
    "    scores.append({\n",
    "        'model': model_name,\n",
    "        'best_score': clf.best_score_,\n",
    "        'best_params': clf.best_params_\n",
    "    })\n",
    "\n",
    "best_model = pd.DataFrame(scores,columns=['model','best_score','best_params'])\n",
    "best_model"
   ]
  },
  {
   "cell_type": "code",
   "execution_count": null,
   "metadata": {},
   "outputs": [],
   "source": [
    "from sklearn.metrics import recall_score, f1_score, confusion_matrix, accuracy_score, precision_score, classification_report\n",
    "\n",
    "# Retrieve the best model and its parameters from the results\n",
    "best_model_row = best_model.loc[best_model['best_score'].idxmax()]\n",
    "best_model_name = best_model_row['model']\n",
    "best_model_params = best_model_row['best_params']\n",
    "\n",
    "# Initialize the best model with the best parameters\n",
    "best_model_selected = model_params[best_model_name]['model']\n",
    "best_model_selected.set_params(**best_model_params)\n",
    "\n",
    "best_model_selected.fit(X_train,y_train)\n",
    "# Make predictions on the test set\n",
    "y_pred_test = best_model_selected.predict(X_test)\n",
    "\n",
    "# Evaluate performance on the test set\n",
    "accuracy_test = accuracy_score(y_test, y_pred_test)\n",
    "precision_test = precision_score(y_test, y_pred_test)\n",
    "recall_test = recall_score(y_test, y_pred_test)\n",
    "f1_test = f1_score(y_test, y_pred_test)\n",
    "report_test = classification_report(y_test, y_pred_test)\n",
    "conf_matrix = confusion_matrix(y_test, y_pred_test)\n",
    "\n",
    "# Print evaluation metrics and other relevant information\n",
    "print(\"Test Set Accuracy:\", accuracy_test)\n",
    "print(\"Test Set Precision:\", precision_test)\n",
    "print(\"Test Set Recall:\", recall_test)\n",
    "print(\"Test Set F1-Score:\", f1_test)\n",
    "print(\"Classification Report for Test Set:\")\n",
    "print(report_test)\n",
    "print(\"Confusion Matrix for Test Set:\")\n",
    "print(conf_matrix)"
   ]
  },
  {
   "cell_type": "code",
   "execution_count": null,
   "metadata": {},
   "outputs": [],
   "source": [
    "import pickle\n",
    "\n",
    "# Save the trained SVM model to a file\n",
    "with open('model.pkl', 'wb') as f:\n",
    "    pickle.dump(best_model_selected, f)"
   ]
  }
 ],
 "metadata": {
  "colab": {
   "authorship_tag": "ABX9TyN7dIgia/ckz9VpmlvqbWR1",
   "provenance": []
  },
  "kernelspec": {
   "display_name": "Python 3 (ipykernel)",
   "language": "python",
   "name": "python3"
  },
  "language_info": {
   "codemirror_mode": {
    "name": "ipython",
    "version": 3
   },
   "file_extension": ".py",
   "mimetype": "text/x-python",
   "name": "python",
   "nbconvert_exporter": "python",
   "pygments_lexer": "ipython3",
   "version": "3.12.3"
  }
 },
 "nbformat": 4,
 "nbformat_minor": 4
}
